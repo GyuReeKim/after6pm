{
 "cells": [
  {
   "cell_type": "markdown",
   "metadata": {},
   "source": [
    "# 2557번"
   ]
  },
  {
   "cell_type": "code",
   "execution_count": 1,
   "metadata": {},
   "outputs": [
    {
     "name": "stdout",
     "output_type": "stream",
     "text": [
      "Hello World!\n"
     ]
    }
   ],
   "source": [
    "print('Hello World!')"
   ]
  },
  {
   "cell_type": "markdown",
   "metadata": {},
   "source": [
    "# 10718번"
   ]
  },
  {
   "cell_type": "code",
   "execution_count": 2,
   "metadata": {},
   "outputs": [
    {
     "name": "stdout",
     "output_type": "stream",
     "text": [
      "강한친구 대한육군\n",
      "강한친구 대한육군\n"
     ]
    }
   ],
   "source": [
    "print('강한친구 대한육군')\n",
    "print('강한친구 대한육군')"
   ]
  },
  {
   "cell_type": "markdown",
   "metadata": {},
   "source": [
    "# 10701번"
   ]
  },
  {
   "cell_type": "code",
   "execution_count": 11,
   "metadata": {},
   "outputs": [
    {
     "name": "stdout",
     "output_type": "stream",
     "text": [
      "\\    /\\\n",
      " )  ( ')\n",
      "(  /  )\n",
      " \\(__)|\n",
      "\n"
     ]
    }
   ],
   "source": [
    "# row data \\가 들어가도 문자열로 인식해준다.\n",
    "cat = r\"\"\"\\    /\\\n",
    " )  ( ')\n",
    "(  /  )\n",
    " \\(__)|\n",
    "\"\"\"\n",
    "print(cat)"
   ]
  },
  {
   "cell_type": "markdown",
   "metadata": {},
   "source": [
    "# 1000번"
   ]
  },
  {
   "cell_type": "code",
   "execution_count": 31,
   "metadata": {},
   "outputs": [
    {
     "name": "stdout",
     "output_type": "stream",
     "text": [
      "1 2\n",
      "3\n"
     ]
    }
   ],
   "source": [
    "# a, b = map(int, input().split())\n",
    "# print(a+b)\n",
    "\n",
    "numbers = input()\n",
    "inputs = list(map(int, numbers.split())) # split은 문자열을 빈칸을 기준으로 리스트로 나눠준다.\n",
    "# map은 우리가 원하는 형태로 반환되지는 않으므로 list등을 적용시켜줘야한다.\n",
    "# print(inputs)\n",
    "\n",
    "# total = inputs[0] + inputs[1]\n",
    "# total = sum(inputs)\n",
    "\n",
    "# 문제를 풀 때 for문으로 생각하는 것이 좋다.\n",
    "total = 0\n",
    "for i in inputs:\n",
    "    total += i\n",
    "\n",
    "print(total)\n"
   ]
  },
  {
   "cell_type": "markdown",
   "metadata": {},
   "source": [
    "# 10869번"
   ]
  },
  {
   "cell_type": "code",
   "execution_count": 12,
   "metadata": {},
   "outputs": [
    {
     "name": "stdout",
     "output_type": "stream",
     "text": [
      "7 3\n",
      "10\n",
      "4\n",
      "21\n",
      "2\n",
      "1\n"
     ]
    }
   ],
   "source": [
    "numbers = input()\n",
    "inputs = list(map(int, numbers.split()))\n",
    "\n",
    "add = 0\n",
    "for a in inputs:\n",
    "    add += a\n",
    "print(add)\n",
    "\n",
    "sub = inputs[0] - inputs[1]\n",
    "print(sub)\n",
    "\n",
    "mul = 1\n",
    "for m in inputs:\n",
    "    mul *= m\n",
    "print(mul)\n",
    "\n",
    "div = inputs[0] // inputs[1]\n",
    "print(div)\n",
    "\n",
    "mod = inputs[0] % inputs[1]\n",
    "print(mod)"
   ]
  },
  {
   "cell_type": "markdown",
   "metadata": {},
   "source": [
    "# 2588번"
   ]
  },
  {
   "cell_type": "code",
   "execution_count": 22,
   "metadata": {},
   "outputs": [
    {
     "name": "stdout",
     "output_type": "stream",
     "text": [
      "472\n",
      "385\n",
      "2360\n",
      "3776\n",
      "1416\n",
      "181720\n"
     ]
    }
   ],
   "source": [
    "num1 = int(input())\n",
    "num2 = input()\n",
    "\n",
    "result = []\n",
    "for n2 in num2[::-1]:\n",
    "    result.append(int(n2))\n",
    "result1 = num1 * result[0]\n",
    "result2 = num1 * result[1]\n",
    "result3 = num1 * result[2]\n",
    "final = result1 + result2 * 10 + result3 * 100\n",
    "print(result1)\n",
    "print(result2)\n",
    "print(result3)\n",
    "print(final)"
   ]
  },
  {
   "cell_type": "code",
   "execution_count": 34,
   "metadata": {},
   "outputs": [
    {
     "name": "stdout",
     "output_type": "stream",
     "text": [
      "472\n",
      "385\n",
      "2360\n",
      "3776\n",
      "1416\n",
      "181720\n"
     ]
    }
   ],
   "source": [
    "# 1번\n",
    "num1 = int(input())\n",
    "\n",
    "# 2번\n",
    "num2 = input()\n",
    "\n",
    "results = []\n",
    "for n2 in num2[::-1]:\n",
    "    results.append(int(n2)*num1)\n",
    "    \n",
    "# 3번 # 4번 # 5번\n",
    "for result in results:\n",
    "    print(result)\n",
    "\n",
    "# 6번\n",
    "total = 0\n",
    "for i in range(len(results)):\n",
    "    total += results[i] * 10**i\n",
    "print(total)\n",
    "\n",
    "# print만으로 출력 가능"
   ]
  }
 ],
 "metadata": {
  "kernelspec": {
   "display_name": "Python 3",
   "language": "python",
   "name": "python3"
  },
  "language_info": {
   "codemirror_mode": {
    "name": "ipython",
    "version": 3
   },
   "file_extension": ".py",
   "mimetype": "text/x-python",
   "name": "python",
   "nbconvert_exporter": "python",
   "pygments_lexer": "ipython3",
   "version": "3.7.3"
  }
 },
 "nbformat": 4,
 "nbformat_minor": 2
}
