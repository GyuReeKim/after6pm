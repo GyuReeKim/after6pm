{
 "cells": [
  {
   "cell_type": "code",
   "execution_count": 1,
   "metadata": {
    "scrolled": true
   },
   "outputs": [
    {
     "name": "stdout",
     "output_type": "stream",
     "text": [
      "8\n",
      "7 2 4 3 6 2 4 5\n",
      "5\n",
      "5\n"
     ]
    }
   ],
   "source": [
    "# N개의 정수를 입력받아 정수로 리스트에 저장\n",
    "N = int(input())\n",
    "A = list(map(int, input().split()))\n",
    "\n",
    "# 1\n",
    "count = 0\n",
    "for a in A:\n",
    "    if a % 2 == 0:\n",
    "        count += 1\n",
    "print(count)\n",
    "\n",
    "# 1 풀이\n",
    "count = 0 # 짝수의 개수 기록\n",
    "for i in range(0, N): # 탐색 구간, 0부터 N개\n",
    "    if A[i] % 2 == 0: # 각 숫자에 대해(리스트의 각 원소에 대해)\n",
    "        count = count + 1\n",
    "print(count)"
   ]
  },
  {
   "cell_type": "code",
   "execution_count": 3,
   "metadata": {
    "scrolled": false
   },
   "outputs": [
    {
     "name": "stdout",
     "output_type": "stream",
     "text": [
      "8 5\n",
      "7 2 4 3 6 2 4 5\n",
      "2\n"
     ]
    }
   ],
   "source": [
    "# N과 M이 주어진다. N개의 정수가 입력될 때 M보다 큰 수의 개수를 출력하시오\n",
    "N, M = map(int, input().split())\n",
    "A = list(map(int, input().split()))\n",
    "\n",
    "count = 0\n",
    "for i in range(0, N):\n",
    "    if A[i] > M:\n",
    "        count = count + 1\n",
    "print(count)"
   ]
  },
  {
   "cell_type": "code",
   "execution_count": 5,
   "metadata": {
    "scrolled": false
   },
   "outputs": [
    {
     "name": "stdout",
     "output_type": "stream",
     "text": [
      "8 7 2 4 3 6 2 4 5\n",
      "3\n"
     ]
    }
   ],
   "source": [
    "# N과 N개의 정수가 한 줄에 입력된다. N개의 정수 중 홀수의 개수를 출력하시오\n",
    "A = list(map(int, input().split()))\n",
    "\n",
    "N = A[0]\n",
    "count = 0\n",
    "# for i in range(1, A[0]+1):\n",
    "for i in range(1, N+1): # 탐색구간\n",
    "    if A[i] % 2:\n",
    "        count = count + 1\n",
    "print(count)"
   ]
  },
  {
   "cell_type": "code",
   "execution_count": 7,
   "metadata": {
    "scrolled": true
   },
   "outputs": [
    {
     "name": "stdout",
     "output_type": "stream",
     "text": [
      "8\n",
      "7 2 4 3 6 2 4 5\n",
      "4\n"
     ]
    }
   ],
   "source": [
    "# 바로 왼쪽의 숫자보다 큰 숫자의 개수는?\n",
    "N = int(input())\n",
    "A = list(map(int, input().split()))\n",
    "\n",
    "# 2\n",
    "count = 0\n",
    "for i in range(1, N): # 탐색구간\n",
    "    if A[i-1] < A[i]:\n",
    "        count = count + 1\n",
    "print(count)"
   ]
  },
  {
   "cell_type": "code",
   "execution_count": 9,
   "metadata": {
    "scrolled": true
   },
   "outputs": [
    {
     "name": "stdout",
     "output_type": "stream",
     "text": [
      "8\n",
      "7 2 4 3 6 2 4 5\n",
      "3\n"
     ]
    }
   ],
   "source": [
    "## 바로 오른쪽의 숫자보다 큰 숫자의 개수는?\n",
    "N = int(input())\n",
    "A = list(map(int, input().split()))\n",
    "\n",
    "count = 0\n",
    "for i in range(0, N-1): # 탐색구간\n",
    "    if A[i+1] < A[i]:\n",
    "        count = count + 1\n",
    "print(count)"
   ]
  },
  {
   "cell_type": "code",
   "execution_count": 10,
   "metadata": {},
   "outputs": [
    {
     "name": "stdout",
     "output_type": "stream",
     "text": [
      "8\n",
      "7 2 4 3 6 2 4 5\n",
      "5 2 1 4 0 2 3 "
     ]
    }
   ],
   "source": [
    "N = int(input())\n",
    "A = list(map(int, input().split()))\n",
    "\n",
    "for i in range(1, N): # 탐색 구간1 : 처리할 원소의 범위\n",
    "    # 각 원소 Ai에 대해 할 일\n",
    "    minV = A[0]\n",
    "    for j in range(1, i): # Ai의 왼쪽 구간에 대해\n",
    "        if minV > A[j]:\n",
    "            minV = A[j]\n",
    "    print(abs(A[i] - minV), end=' ')"
   ]
  }
 ],
 "metadata": {
  "kernelspec": {
   "display_name": "Python 3",
   "language": "python",
   "name": "python3"
  },
  "language_info": {
   "codemirror_mode": {
    "name": "ipython",
    "version": 3
   },
   "file_extension": ".py",
   "mimetype": "text/x-python",
   "name": "python",
   "nbconvert_exporter": "python",
   "pygments_lexer": "ipython3",
   "version": "3.7.3"
  }
 },
 "nbformat": 4,
 "nbformat_minor": 2
}
