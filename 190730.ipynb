{
 "cells": [
  {
   "cell_type": "markdown",
   "metadata": {},
   "source": [
    "# 2753번"
   ]
  },
  {
   "cell_type": "code",
   "execution_count": 4,
   "metadata": {},
   "outputs": [
    {
     "name": "stdout",
     "output_type": "stream",
     "text": [
      "2000\n",
      "1\n"
     ]
    }
   ],
   "source": [
    "year = int(input())\n",
    "\n",
    "if year % 400 == 0:\n",
    "    print(1)\n",
    "elif year % 4 == 0 and year % 100 != 0:\n",
    "    print(1)\n",
    "else:\n",
    "    print(0)"
   ]
  },
  {
   "cell_type": "code",
   "execution_count": 13,
   "metadata": {},
   "outputs": [
    {
     "name": "stdout",
     "output_type": "stream",
     "text": [
      "2012\n",
      "1\n"
     ]
    }
   ],
   "source": [
    "year = int(input())\n",
    "\n",
    "if year % 4 == 0:\n",
    "    # 4의 배수\n",
    "    if year % 100 != 0 or year % 400 == 0:\n",
    "        print(1)\n",
    "    else:\n",
    "        print(0)\n",
    "else:\n",
    "    # 4의 배수가 아니기 때문에 윤년 아님\n",
    "    print(0)"
   ]
  },
  {
   "cell_type": "markdown",
   "metadata": {},
   "source": [
    "# 10817번"
   ]
  },
  {
   "cell_type": "code",
   "execution_count": 20,
   "metadata": {},
   "outputs": [
    {
     "name": "stdout",
     "output_type": "stream",
     "text": [
      "20 10 10\n",
      "10\n"
     ]
    }
   ],
   "source": [
    "num = input()\n",
    "num_list = list(map(int, num.split()))\n",
    "num_list.sort()\n",
    "\n",
    "print(num_list[-2])"
   ]
  },
  {
   "cell_type": "code",
   "execution_count": 41,
   "metadata": {},
   "outputs": [
    {
     "name": "stdout",
     "output_type": "stream",
     "text": [
      "30 30 10\n",
      "10\n"
     ]
    }
   ],
   "source": [
    "######답이 나오지 않음######\n",
    "######다시 풀어보기######\n",
    "num = input()\n",
    "num_list = list(map(int, num.split()))\n",
    "\n",
    "result = ''\n",
    "if num_list[0] == num_list[1]:    \n",
    "    if num_list[1] < num_list[2]:\n",
    "        result = num_list[1]\n",
    "    elif num_list[1] < num_list[2]:\n",
    "        result = num_list[1]\n",
    "    else:\n",
    "        result = num_list[2]\n",
    "elif num_list[0] < num_list[1]:\n",
    "    if num_list[1] <= num_list[2]:\n",
    "        result = num_list[1]\n",
    "    else:\n",
    "        result = num_list[2]\n",
    "else:\n",
    "    if num_list[0] <= num_list[2]:\n",
    "        result = num_list[0]\n",
    "    else:\n",
    "        result = num_list[2]\n",
    "    \n",
    "print(result)"
   ]
  },
  {
   "cell_type": "code",
   "execution_count": 43,
   "metadata": {},
   "outputs": [
    {
     "name": "stdout",
     "output_type": "stream",
     "text": [
      "30 30 10\n",
      "30\n"
     ]
    }
   ],
   "source": [
    "number = input()\n",
    "num = number.split()\n",
    "# print(num)\n",
    "\n",
    "num1 = int(num[0])\n",
    "num2 = int(num[1])\n",
    "num3 = int(num[2])\n",
    "\n",
    "if num1 <= num2 <= num3:\n",
    "    print(num2)\n",
    "elif num1 <= num3 <= num2:\n",
    "    print(num3)\n",
    "elif num2 <= num1 <= num3:\n",
    "    print(num1)\n",
    "elif num2 <= num3 <= num1:\n",
    "    print(num3)\n",
    "elif num3 <= num1 <= num2:\n",
    "    print(num1)\n",
    "else:\n",
    "    print(num2)"
   ]
  },
  {
   "cell_type": "code",
   "execution_count": 44,
   "metadata": {},
   "outputs": [
    {
     "name": "stdout",
     "output_type": "stream",
     "text": [
      "20\n"
     ]
    }
   ],
   "source": [
    "number = [10, 20, 30]\n",
    "number.sort()\n",
    "print(number[1])"
   ]
  },
  {
   "cell_type": "code",
   "execution_count": 53,
   "metadata": {},
   "outputs": [
    {
     "name": "stdout",
     "output_type": "stream",
     "text": [
      "[20]\n"
     ]
    }
   ],
   "source": [
    "number = [10, 20, 30]\n",
    "\n",
    "maximum = max(number)\n",
    "minimum = min(number)\n",
    "\n",
    "number.remove(maximum)\n",
    "number.remove(minimum)\n",
    "print(number)"
   ]
  },
  {
   "cell_type": "markdown",
   "metadata": {},
   "source": [
    "# 2742번"
   ]
  },
  {
   "cell_type": "code",
   "execution_count": 57,
   "metadata": {},
   "outputs": [
    {
     "name": "stdout",
     "output_type": "stream",
     "text": [
      "5\n",
      "5\n",
      "4\n",
      "3\n",
      "2\n",
      "1\n"
     ]
    }
   ],
   "source": [
    "num = int(input())\n",
    "\n",
    "number = []\n",
    "for n in range(1, num+1):\n",
    "    number.append(n)\n",
    "for i in number[::-1]:\n",
    "    print(i)"
   ]
  },
  {
   "cell_type": "code",
   "execution_count": 58,
   "metadata": {},
   "outputs": [
    {
     "name": "stdout",
     "output_type": "stream",
     "text": [
      "5\n",
      "5\n",
      "4\n",
      "3\n",
      "2\n",
      "1\n"
     ]
    }
   ],
   "source": [
    "num = int(input())\n",
    "\n",
    "for i in range(n):\n",
    "    print(n-i)"
   ]
  }
 ],
 "metadata": {
  "kernelspec": {
   "display_name": "Python 3",
   "language": "python",
   "name": "python3"
  },
  "language_info": {
   "codemirror_mode": {
    "name": "ipython",
    "version": 3
   },
   "file_extension": ".py",
   "mimetype": "text/x-python",
   "name": "python",
   "nbconvert_exporter": "python",
   "pygments_lexer": "ipython3",
   "version": "3.7.3"
  }
 },
 "nbformat": 4,
 "nbformat_minor": 2
}
